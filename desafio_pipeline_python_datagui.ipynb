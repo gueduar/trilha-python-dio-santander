{
  "nbformat": 4,
  "nbformat_minor": 0,
  "metadata": {
    "colab": {
      "provenance": [],
      "mount_file_id": "1doMg2a5zocXAWXKYYacNYOQgwqWaM_k6",
      "authorship_tag": "ABX9TyMPhX3MLBUYngZEQa0hhHV7",
      "include_colab_link": true
    },
    "kernelspec": {
      "name": "python3",
      "display_name": "Python 3"
    },
    "language_info": {
      "name": "python"
    }
  },
  "cells": [
    {
      "cell_type": "markdown",
      "metadata": {
        "id": "view-in-github",
        "colab_type": "text"
      },
      "source": [
        "<a href=\"https://colab.research.google.com/github/gueduar/trilha-python-dio-santander/blob/main/desafio_pipeline_python_datagui.ipynb\" target=\"_parent\"><img src=\"https://colab.research.google.com/assets/colab-badge.svg\" alt=\"Open In Colab\"/></a>"
      ]
    },
    {
      "cell_type": "markdown",
      "source": [
        "# **Pipeline de ETL Python**"
      ],
      "metadata": {
        "id": "-79lfHJLBoxN"
      }
    },
    {
      "cell_type": "markdown",
      "source": [
        "## **E**tract\n",
        "Extração dos dados sobre o plantio de árvores numa determinada localidade e dos dados referentes ao nomes científicos de algumas espécies além de informações sobre elas."
      ],
      "metadata": {
        "id": "sz1lF7dxMqmH"
      }
    },
    {
      "cell_type": "code",
      "source": [
        "import pandas as pd\n",
        "\n",
        "df_plantio = pd.read_excel('/content/bd_controle_plantas.xlsx')\n",
        "df_especies = pd.read_csv('/content/lista_especies.csv',\";\")\n",
        "\n",
        "df_plantio.rename(columns={'especie': 'NOME POPULAR'}, inplace = True)\n",
        "\n",
        "s_arvores = df_plantio['NOME POPULAR']\n",
        "s_arvores.dropna(inplace = True)\n",
        "\n",
        "lista_nome_pop = list(set(s_arvores.tolist()))"
      ],
      "metadata": {
        "colab": {
          "base_uri": "https://localhost:8080/"
        },
        "id": "ouhAgaQ0SIxk",
        "outputId": "c2d32425-7187-4c08-9472-73f7c61f3ebb"
      },
      "execution_count": 99,
      "outputs": [
        {
          "output_type": "stream",
          "name": "stderr",
          "text": [
            "<ipython-input-99-9bf1f86c1e26>:4: FutureWarning: In a future version of pandas all arguments of read_csv except for the argument 'filepath_or_buffer' will be keyword-only.\n",
            "  df_especies = pd.read_csv('/content/lista_especies.csv',\";\")\n"
          ]
        }
      ]
    },
    {
      "cell_type": "markdown",
      "source": [
        "## **T**ransform\n",
        "Identifica e filtra apenas as plantas em que foi possível a identificação do nome científico"
      ],
      "metadata": {
        "id": "jCHPIm5iLa3y"
      }
    },
    {
      "cell_type": "code",
      "source": [
        "df = pd.DataFrame()\n",
        "\n",
        "for nomepopular in lista_nome_pop:\n",
        "  if nomepopular in df_especies['NOME POPULAR'].to_list():\n",
        "    if df.empty == True:\n",
        "      df = df_especies.loc[(df_especies['NOME POPULAR'].str.replace('-',' ') == nomepopular),['NOME POPULAR','NOME CIENTÍFICO']]\n",
        "    else:\n",
        "      df = pd.concat([df,pd.DataFrame(df_especies.loc[(df_especies['NOME POPULAR'] == nomepopular),['NOME POPULAR','NOME CIENTÍFICO']])])\n"
      ],
      "metadata": {
        "id": "lFZlUQcR7zuW"
      },
      "execution_count": 100,
      "outputs": []
    },
    {
      "cell_type": "markdown",
      "source": [
        "Identifica se a planta está viva ou não após a criação do DataFrame que será extraído"
      ],
      "metadata": {
        "id": "gWJfirh6MbMa"
      }
    },
    {
      "cell_type": "code",
      "source": [
        "from pandas.core.arrays.datetimelike import NaT\n",
        "import numpy as np\n",
        "\n",
        "df_final = pd.merge(df, df_plantio, on = \"NOME POPULAR\")\n",
        "\n",
        "df_final = df_final[['ID','NOME POPULAR', 'NOME CIENTÍFICO', 'dt_plantio', 'dt_morte']].set_index('ID')\n",
        "\n",
        "df_final['FL_PLANTA_VIVA'] = np.where(pd.isnull(df_final['dt_morte']) == True, True, False)"
      ],
      "metadata": {
        "id": "WKKVd7Y7DkP5"
      },
      "execution_count": 101,
      "outputs": []
    },
    {
      "cell_type": "markdown",
      "source": [
        "## **L**oad\n",
        "Carregar DataFrame final para um arquivo CSV no Gooogle Drive"
      ],
      "metadata": {
        "id": "A-vQMyg_NIF0"
      }
    },
    {
      "cell_type": "code",
      "source": [
        "caminho_arquivo = '/content/drive/MyDrive/minhas_arvores.csv'\n",
        "\n",
        "df_final.to_csv(caminho_arquivo)"
      ],
      "metadata": {
        "id": "sP25FOzcMYa7"
      },
      "execution_count": 102,
      "outputs": []
    }
  ]
}